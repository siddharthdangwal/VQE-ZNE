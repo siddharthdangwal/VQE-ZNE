{
 "cells": [
  {
   "cell_type": "markdown",
   "id": "3d1994d4",
   "metadata": {},
   "source": [
    "### Questions regarding Qiskit Runtime ###\n",
    "\n",
    "1) What exactly makes runtime faster? Is it just that the classical compute also happens closer to the quantum compute in the cloud, or is there something more? Does qiskit runtime change the ordering of jobs too? That is, if someone starts a runtime session and the first job is executed, will the other jobs be given priority? If that is the case, what happens if multiple people are running a runtime session on the same backend?\n",
    "\n",
    "2) Why is the sampler output called \"quasi-probability\"? Why is it not real probability? How is a sampler primitive different from say the qasm-simulator?\n",
    "\n",
    "3) Does the estimator do something fundamentally different that makes it faster? Like in order to compute the expectations (on a real device, or qasm simulator), we will still have to get shots. What does it do in the background? Does it simply generate those shots and compute expectations manually? Or is there some fundamentally different technique? "
   ]
  },
  {
   "cell_type": "markdown",
   "id": "761d5d14",
   "metadata": {},
   "source": [
    "### Primitives ###\n",
    "\n",
    "Runtime has a couple of new runtime primitives, that enable the user to do a few additional tasks (on top of what is normally possible using qiskit)\n",
    "\n",
    "### Sampler ###\n",
    "\n",
    "Takes as input a circuit, returns error-mitigated quasi-probabilites as output.\n",
    "\n",
    "### Estimator ###\n",
    "\n",
    "Efficiently calculate expectation values of certain operators"
   ]
  },
  {
   "cell_type": "code",
   "execution_count": null,
   "id": "ff95f6cd",
   "metadata": {},
   "outputs": [],
   "source": [
    "import qiskit\n",
    "from qiskit_ibm_provider import IBMProvider"
   ]
  },
  {
   "cell_type": "code",
   "execution_count": null,
   "id": "6093c587",
   "metadata": {},
   "outputs": [],
   "source": [
    "from qiskit_ibm_runtime import QiskitRuntimeService"
   ]
  },
  {
   "cell_type": "code",
   "execution_count": null,
   "id": "819f4964",
   "metadata": {},
   "outputs": [],
   "source": [
    "service = QiskitRuntimeService(channel=\"ibm_quantum\")"
   ]
  },
  {
   "cell_type": "code",
   "execution_count": null,
   "id": "e8850dc0",
   "metadata": {},
   "outputs": [],
   "source": [
    "from qiskit import *\n",
    "from qiskit_ibm_runtime import Sampler, Estimator"
   ]
  },
  {
   "cell_type": "code",
   "execution_count": null,
   "id": "23284178",
   "metadata": {},
   "outputs": [],
   "source": [
    "service = QiskitRuntimeService()\n",
    "#backend = service.get_backend(\"ibmq_qasm_simulator\")\n",
    "\n",
    "qc = QuantumCircuit(2)\n",
    "qc.h(0)\n",
    "qc.cx(0,1)\n",
    "qc.measure_all()\n",
    "\n",
    "sampler = Sampler(session=backend)\n",
    "job = sampler.run(qc)\n",
    "result = job.result()"
   ]
  },
  {
   "cell_type": "markdown",
   "id": "6d55d844",
   "metadata": {},
   "source": [
    "### Estimator Primitive Tutorial ###"
   ]
  },
  {
   "cell_type": "code",
   "execution_count": null,
   "id": "bd089a9d",
   "metadata": {},
   "outputs": [],
   "source": [
    "from qiskit.circuit.random import random_circuit\n",
    "\n",
    "circuit = random_circuit(2, 2, seed = 0).decompose(reps = 1)"
   ]
  },
  {
   "cell_type": "code",
   "execution_count": null,
   "id": "9d82291d",
   "metadata": {},
   "outputs": [],
   "source": [
    "circuit.draw(output = \"mpl\")"
   ]
  },
  {
   "cell_type": "markdown",
   "id": "48a45bb2",
   "metadata": {},
   "source": [
    "### Define an observable ###"
   ]
  },
  {
   "cell_type": "code",
   "execution_count": null,
   "id": "1cf32bef",
   "metadata": {},
   "outputs": [],
   "source": [
    "from qiskit.quantum_info import SparsePauliOp\n",
    "\n",
    "observable = SparsePauliOp(\"XZ\")\n",
    "print(f\">>> Observable: {observable.paulis}\")"
   ]
  },
  {
   "cell_type": "markdown",
   "id": "b758addd",
   "metadata": {},
   "source": [
    "### Initialize an Estimator object ###"
   ]
  },
  {
   "cell_type": "code",
   "execution_count": null,
   "id": "6961a10c",
   "metadata": {},
   "outputs": [],
   "source": [
    "from qiskit.primitives import Estimator, Sampler"
   ]
  },
  {
   "cell_type": "code",
   "execution_count": null,
   "id": "06ea8be2",
   "metadata": {},
   "outputs": [],
   "source": [
    "estimator = Estimator()\n",
    "job = estimator.run(circuit, observable)"
   ]
  },
  {
   "cell_type": "code",
   "execution_count": null,
   "id": "b4f60a07",
   "metadata": {},
   "outputs": [],
   "source": [
    "result = job.result()"
   ]
  },
  {
   "cell_type": "markdown",
   "id": "59039aa6",
   "metadata": {},
   "source": [
    "### Multiple Circuits ###"
   ]
  },
  {
   "cell_type": "code",
   "execution_count": null,
   "id": "c74be92d",
   "metadata": {},
   "outputs": [],
   "source": [
    "circuits = (\n",
    "    random_circuit(2, 2, seed=0).decompose(reps=1),\n",
    "    random_circuit(2, 2, seed=1).decompose(reps=1),\n",
    ")\n",
    "observables = (\n",
    "    SparsePauliOp(\"XZ\"),\n",
    "    SparsePauliOp(\"IY\"),\n",
    ")\n",
    "\n",
    "job = estimator.run(circuits, observables)\n",
    "result = job.result()\n",
    "\n",
    "print(f\">>> Observables: {[obs.paulis for obs in observables]}\")\n",
    "print(f\">>> Expectation values: {result.values.tolist()}\")"
   ]
  },
  {
   "cell_type": "markdown",
   "id": "c64ab13b",
   "metadata": {},
   "source": [
    "### Runtime Estimator ###"
   ]
  },
  {
   "cell_type": "code",
   "execution_count": null,
   "id": "4f8eec99",
   "metadata": {},
   "outputs": [],
   "source": [
    "from qiskit_ibm_runtime import QiskitRuntimeService\n",
    "\n",
    "service = QiskitRuntimeService(channel=\"ibm_quantum\")\n",
    "backend = service.backend(\"ibmq_qasm_simulator\") # the simulator up on the cloud"
   ]
  },
  {
   "cell_type": "code",
   "execution_count": null,
   "id": "bd9c84ae",
   "metadata": {},
   "outputs": [],
   "source": [
    "from qiskit.circuit.random import random_circuit\n",
    "from qiskit.quantum_info import SparsePauliOp\n",
    "\n",
    "circuit = random_circuit(2, 2, seed=0).decompose(reps=1)\n",
    "display(circuit.draw(\"mpl\"))\n",
    "\n",
    "observable = SparsePauliOp(\"XZ\")\n",
    "print(f\">>> Observable: {observable.paulis}\")"
   ]
  },
  {
   "cell_type": "code",
   "execution_count": null,
   "id": "34df31df",
   "metadata": {},
   "outputs": [],
   "source": [
    "from qiskit_ibm_runtime import Estimator, Sampler"
   ]
  },
  {
   "cell_type": "code",
   "execution_count": null,
   "id": "2c8da571",
   "metadata": {},
   "outputs": [],
   "source": [
    "estimator = Estimator(backend = backend) # estimator primitive on top of the qasm_simulator"
   ]
  },
  {
   "cell_type": "code",
   "execution_count": null,
   "id": "cd773c80",
   "metadata": {},
   "outputs": [],
   "source": [
    "job = estimator.run(circuit, observable)\n",
    "print(f\">>> Job ID: {job.job_id()}\")\n",
    "print(f\">>> Job Status: {job.status()}\")"
   ]
  },
  {
   "cell_type": "code",
   "execution_count": null,
   "id": "7e2b5151",
   "metadata": {},
   "outputs": [],
   "source": [
    "result = job.result()\n",
    "print(f\">>> {result}\")\n",
    "print(f\"  > Expectation value: {result.values[0]}\")\n",
    "print(f\"  > Metadata: {result.metadata[0]}\")"
   ]
  },
  {
   "cell_type": "code",
   "execution_count": null,
   "id": "851ff4f9",
   "metadata": {},
   "outputs": [],
   "source": [
    "from qiskit_ibm_runtime import Options\n",
    "\n",
    "options = Options(optimization_level = 3, environment = {\"log_level\": \"INFO\"})"
   ]
  },
  {
   "cell_type": "markdown",
   "id": "9de9616b",
   "metadata": {},
   "source": [
    "### optimization_level for error suppression and resilience_level for error mitigation ###"
   ]
  },
  {
   "cell_type": "code",
   "execution_count": null,
   "id": "694aedc1",
   "metadata": {},
   "outputs": [],
   "source": [
    "options = Options(optimiztion_level = 3, resilience_level = 3)"
   ]
  },
  {
   "cell_type": "markdown",
   "id": "f59d2a1b",
   "metadata": {},
   "source": [
    "### Invoke Estimator within a session ###"
   ]
  },
  {
   "cell_type": "code",
   "execution_count": null,
   "id": "08816e25",
   "metadata": {},
   "outputs": [],
   "source": [
    "backend = service.backend(\"ibmq_qasm_simulator\")"
   ]
  },
  {
   "cell_type": "code",
   "execution_count": null,
   "id": "abdb290f",
   "metadata": {},
   "outputs": [],
   "source": [
    "from qiskit_ibm_runtime import Session, Estimator\n",
    "\n",
    "with Session(backend = backend, max_time = \"1h\"):\n",
    "    \n",
    "    options = Options(optimization_level = 3)\n",
    "    estimator = Estimator(options = options)\n",
    "    \n",
    "    for i in range(100):\n",
    "        result = estimator.run(circuit, observable).result()\n",
    "        print(f\">>> Expectation value from the {i}-th run: {result.values[0]}\")"
   ]
  },
  {
   "cell_type": "markdown",
   "id": "8ee9f64c",
   "metadata": {},
   "source": [
    "### Overall Target To-do ###\n",
    "\n",
    "1) Get Initial Parameter estimate using CAFQA\n",
    "2) VAQEM+QISMET+VarSaw (DD insertion, Transient Errors, Measurement Errors)"
   ]
  },
  {
   "cell_type": "markdown",
   "id": "9774b126",
   "metadata": {},
   "source": [
    "### Week 1 : To do ###\n",
    "\n",
    "1) Complete reading all qiskit runtime tutorials\n",
    "2) Run all the circuit examples on a simulator, as well as real hardware\n",
    "3) Try to run VQE with runtime along with VarSaw\n",
    "4) Read the VAQEM paper"
   ]
  },
  {
   "cell_type": "markdown",
   "id": "2e58a590",
   "metadata": {},
   "source": [
    "### VQE with Estimator ###"
   ]
  },
  {
   "cell_type": "code",
   "execution_count": null,
   "id": "757ecbbd",
   "metadata": {},
   "outputs": [],
   "source": [
    "# General imports\n",
    "import time\n",
    "import numpy as np\n",
    "\n",
    "# Pre-defined ansatz circuit and operator class for Hamiltonian\n",
    "from qiskit.circuit.library import EfficientSU2\n",
    "from qiskit.quantum_info import SparsePauliOp\n",
    "\n",
    "# The IBM Qiskit Runtime\n",
    "from qiskit_ibm_runtime import QiskitRuntimeService\n",
    "from qiskit_ibm_runtime import Estimator, Session\n",
    "\n",
    "# SciPy minimizer routine\n",
    "from scipy.optimize import minimize\n",
    "\n",
    "# Plotting functions\n",
    "import matplotlib.pyplot as plt\n",
    "\n",
    "%config InlineBackend.figure_format='retina'"
   ]
  },
  {
   "cell_type": "code",
   "execution_count": null,
   "id": "26e93244",
   "metadata": {},
   "outputs": [],
   "source": [
    "service = QiskitRuntimeService()\n",
    "backend = service.get_backend(\"ibmq_qasm_simulator\")\n",
    "#backend = service.get_backend(\"ibmq_mumbai\")"
   ]
  },
  {
   "cell_type": "code",
   "execution_count": null,
   "id": "1c7f9ebd",
   "metadata": {},
   "outputs": [],
   "source": [
    "hamiltonian = SparsePauliOp.from_list(\n",
    "    [(\"YZ\", 0.3980), (\"ZI\", -0.3980), (\"ZZ\", -0.0113), (\"XX\", 0.1810)]\n",
    ")"
   ]
  },
  {
   "cell_type": "code",
   "execution_count": null,
   "id": "1aa67bfb",
   "metadata": {},
   "outputs": [],
   "source": [
    "ansatz = EfficientSU2(hamiltonian.num_qubits)\n",
    "ansatz.draw(\"mpl\")"
   ]
  },
  {
   "cell_type": "code",
   "execution_count": null,
   "id": "e784fd72",
   "metadata": {},
   "outputs": [],
   "source": [
    "num_params = ansatz.num_parameters\n",
    "print(num_params)"
   ]
  },
  {
   "cell_type": "code",
   "execution_count": null,
   "id": "9c2e9e65",
   "metadata": {},
   "outputs": [],
   "source": [
    "# vqe cost function\n",
    "\n",
    "def cost_func(params, ansatz, hamiltonian, estimator):\n",
    "    \"\"\"Return estimate of energy from estimator\n",
    "\n",
    "    Parameters:\n",
    "        params (ndarray): Array of ansatz parameters\n",
    "        ansatz (QuantumCircuit): Parameterized ansatz circuit\n",
    "        hamiltonian (SparsePauliOp): Operator representation of Hamiltonian\n",
    "        estimator (Estimator): Estimator primitive instance\n",
    "\n",
    "    Returns:\n",
    "        float: Energy estimate\n",
    "    \"\"\"\n",
    "    energy = (\n",
    "        estimator.run(ansatz, hamiltonian, parameter_values=params).result().values[0]\n",
    "    )\n",
    "    print(energy)\n",
    "    return energy"
   ]
  },
  {
   "cell_type": "code",
   "execution_count": null,
   "id": "8f92b497",
   "metadata": {},
   "outputs": [],
   "source": [
    "x0 = 2 * np.pi * np.random.random(num_params)"
   ]
  },
  {
   "cell_type": "code",
   "execution_count": null,
   "id": "4725477a",
   "metadata": {},
   "outputs": [],
   "source": [
    "with Session(backend=backend):\n",
    "    estimator = Estimator(options={\"shots\": int(1e4)})\n",
    "    res = minimize(\n",
    "        cost_func, x0, args=(ansatz, hamiltonian, estimator), method=\"cobyla\"\n",
    "    )"
   ]
  },
  {
   "cell_type": "markdown",
   "id": "00ff57ec",
   "metadata": {},
   "source": [
    "### Runtime Sampler ###"
   ]
  },
  {
   "cell_type": "code",
   "execution_count": null,
   "id": "ee7b9464",
   "metadata": {},
   "outputs": [],
   "source": [
    "from qiskit import QuantumCircuit"
   ]
  },
  {
   "cell_type": "code",
   "execution_count": null,
   "id": "6890af03",
   "metadata": {},
   "outputs": [],
   "source": [
    "from qiskit.circuit.random import random_circuit\n",
    "\n",
    "#circuit = random_circuit(2, 2, seed=0, measure=True).decompose(reps=1)\n",
    "circuit = QuantumCircuit(2, 2)\n",
    "circuit.h(0)\n",
    "circuit.cx(0, 1)\n",
    "circuit.measure([0, 1], [0, 1])\n",
    "display(circuit.draw(\"mpl\"))"
   ]
  },
  {
   "cell_type": "code",
   "execution_count": null,
   "id": "0dae0d07",
   "metadata": {},
   "outputs": [],
   "source": [
    "from qiskit.primitives import Sampler\n",
    "\n",
    "sampler = Sampler()"
   ]
  },
  {
   "cell_type": "code",
   "execution_count": null,
   "id": "f6a11a57",
   "metadata": {},
   "outputs": [],
   "source": [
    "job = sampler.run(circuit)\n",
    "print(f\">>> Job ID: {job.job_id()}\")\n",
    "print(f\">>> Job Status: {job.status()}\")"
   ]
  },
  {
   "cell_type": "code",
   "execution_count": null,
   "id": "38115f00",
   "metadata": {},
   "outputs": [],
   "source": [
    "result = job.result()\n",
    "print(f\">>> {result}\")\n",
    "print(f\"  > Quasi-distribution: {result.quasi_dists[0]}\")"
   ]
  },
  {
   "cell_type": "markdown",
   "id": "f7860196",
   "metadata": {},
   "source": [
    "### Mitiq testing ###"
   ]
  },
  {
   "cell_type": "code",
   "execution_count": 4,
   "id": "ab67cb82",
   "metadata": {},
   "outputs": [],
   "source": []
  },
  {
   "cell_type": "code",
   "execution_count": 5,
   "id": "6c17f9bd",
   "metadata": {},
   "outputs": [],
   "source": [
    "USE_REAL_HARDWARE = True"
   ]
  },
  {
   "cell_type": "code",
   "execution_count": null,
   "id": "2f76b206",
   "metadata": {},
   "outputs": [],
   "source": [
    "def vqe_derivative()"
   ]
  }
 ],
 "metadata": {
  "kernelspec": {
   "display_name": "Python 3 (ipykernel)",
   "language": "python",
   "name": "python3"
  },
  "language_info": {
   "codemirror_mode": {
    "name": "ipython",
    "version": 3
   },
   "file_extension": ".py",
   "mimetype": "text/x-python",
   "name": "python",
   "nbconvert_exporter": "python",
   "pygments_lexer": "ipython3",
   "version": "3.11.3"
  }
 },
 "nbformat": 4,
 "nbformat_minor": 5
}
